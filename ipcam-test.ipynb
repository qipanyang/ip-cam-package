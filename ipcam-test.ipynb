{
 "cells": [
  {
   "cell_type": "code",
   "execution_count": 18,
   "id": "e48e676c",
   "metadata": {},
   "outputs": [],
   "source": [
    "import asyncio\n",
    "import ipcam"
   ]
  },
  {
   "cell_type": "code",
   "execution_count": 19,
   "id": "6cbeff33",
   "metadata": {},
   "outputs": [],
   "source": [
    "loop = asyncio.get_event_loop()"
   ]
  },
  {
   "cell_type": "code",
   "execution_count": 20,
   "id": "a167d4b2",
   "metadata": {},
   "outputs": [],
   "source": [
    "my_ipcam = ipcam.IPcam('http://10.105.122.70:3000', 111)"
   ]
  },
  {
   "cell_type": "code",
   "execution_count": 21,
   "id": "7f80b928",
   "metadata": {},
   "outputs": [
    {
     "data": {
      "text/plain": [
       "<Task pending name='Task-878' coro=<IPcam.joinRoom() running at /Users/qipanyang/Desktop/512/ip-cam-package/ipcam.py:113>>"
      ]
     },
     "execution_count": 21,
     "metadata": {},
     "output_type": "execute_result"
    },
    {
     "name": "stdout",
     "output_type": "stream",
     "text": [
      "create a new async sio client\n",
      "connect to a server\n"
     ]
    }
   ],
   "source": [
    "loop.create_task(my_ipcam.joinRoom())"
   ]
  },
  {
   "cell_type": "code",
   "execution_count": null,
   "id": "2172b0f0",
   "metadata": {},
   "outputs": [],
   "source": [
    "async def main():\n",
    "    await my_ipcam.setupPC()\n",
    "    await my_ipcam.onConnection()"
   ]
  },
  {
   "cell_type": "code",
   "execution_count": null,
   "id": "a528bc36",
   "metadata": {},
   "outputs": [],
   "source": [
    "task0 = loop.create_task(main())"
   ]
  },
  {
   "cell_type": "code",
   "execution_count": 30,
   "id": "b2de0688",
   "metadata": {},
   "outputs": [
    {
     "data": {
      "text/plain": [
       "<Task pending name='Task-1136' coro=<IPcam.takePhoto() running at /Users/qipanyang/Desktop/512/ip-cam-package/ipcam.py:152>>"
      ]
     },
     "execution_count": 30,
     "metadata": {},
     "output_type": "execute_result"
    }
   ],
   "source": [
    "loop.create_task(my_ipcam.takePhoto('test01-120'))"
   ]
  },
  {
   "cell_type": "code",
   "execution_count": 31,
   "id": "a59006d7",
   "metadata": {},
   "outputs": [
    {
     "data": {
      "text/plain": [
       "<Task pending name='Task-1142' coro=<IPcam.playVideo() running at /Users/qipanyang/Desktop/512/ip-cam-package/ipcam.py:159>>"
      ]
     },
     "execution_count": 31,
     "metadata": {},
     "output_type": "execute_result"
    },
    {
     "name": "stdout",
     "output_type": "stream",
     "text": [
      "new peer connection\n",
      "on-connect: is the caller\n",
      "connection established\n",
      "offer-or-answer offer\n",
      "successfully add new candidate\n",
      "Track received\n",
      "successfully add new candidate\n",
      "successfully add new candidate\n",
      "successfully add new candidate\n",
      "successfully add new candidate\n",
      "successfully add new candidate\n",
      "successfully add new candidate\n",
      "successfully add new candidate\n",
      "successfully add new candidate\n",
      "successfully add new candidate\n",
      "successfully add new candidate\n",
      "successfully add new candidate\n",
      "successfully add new candidate\n",
      "successfully add new candidate\n",
      "successfully add new candidate\n",
      "successfully add new candidate\n",
      "successfully add new candidate\n",
      "successfully add new candidate\n",
      "Connection state is connecting\n",
      "Connection state is connected\n",
      "transfer to frame\n",
      "Video stream exists.\n"
     ]
    }
   ],
   "source": [
    "loop.create_task(my_ipcam.playVideo())"
   ]
  },
  {
   "cell_type": "code",
   "execution_count": null,
   "id": "051ef826",
   "metadata": {},
   "outputs": [],
   "source": [
    "loop.create_task(my_ipcam.checkPeerState())"
   ]
  },
  {
   "cell_type": "code",
   "execution_count": 36,
   "id": "9bf5fdb1",
   "metadata": {},
   "outputs": [
    {
     "data": {
      "text/plain": [
       "<Task pending name='Task-2762' coro=<IPcam.cameraSetting() running at /Users/qipanyang/Desktop/512/ip-cam-package/ipcam.py:163>>"
      ]
     },
     "execution_count": 36,
     "metadata": {},
     "output_type": "execute_result"
    },
    {
     "name": "stdout",
     "output_type": "stream",
     "text": [
      "change camera settings\n",
      "Connection state is closed\n"
     ]
    }
   ],
   "source": [
    "loop.create_task(my_ipcam.cameraSetting({\"isFront\": False, \"flash\": False, \"exposure\": 0.0000001, \"pictureSize\": \"Low\"}))"
   ]
  },
  {
   "cell_type": "code",
   "execution_count": null,
   "id": "59045dae",
   "metadata": {},
   "outputs": [],
   "source": [
    "loop.stop()"
   ]
  },
  {
   "cell_type": "code",
   "execution_count": null,
   "id": "8fd37265",
   "metadata": {},
   "outputs": [],
   "source": [
    "my_ipcam.pc"
   ]
  },
  {
   "cell_type": "code",
   "execution_count": null,
   "id": "ea20640f",
   "metadata": {},
   "outputs": [],
   "source": []
  }
 ],
 "metadata": {
  "kernelspec": {
   "display_name": "Python 3",
   "language": "python",
   "name": "python3"
  },
  "language_info": {
   "codemirror_mode": {
    "name": "ipython",
    "version": 3
   },
   "file_extension": ".py",
   "mimetype": "text/x-python",
   "name": "python",
   "nbconvert_exporter": "python",
   "pygments_lexer": "ipython3",
   "version": "3.9.4"
  }
 },
 "nbformat": 4,
 "nbformat_minor": 5
}
