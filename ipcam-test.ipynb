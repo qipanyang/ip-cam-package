{
 "cells": [
  {
   "cell_type": "code",
   "execution_count": 4,
   "id": "e48e676c",
   "metadata": {},
   "outputs": [],
   "source": [
    "import asyncio\n",
    "import ipcam"
   ]
  },
  {
   "cell_type": "code",
   "execution_count": 5,
   "id": "6cbeff33",
   "metadata": {},
   "outputs": [],
   "source": [
    "loop = asyncio.get_event_loop()"
   ]
  },
  {
   "cell_type": "code",
   "execution_count": 6,
   "id": "a167d4b2",
   "metadata": {},
   "outputs": [],
   "source": [
    "my_ipcam = ipcam.IPcam('http://10.105.122.70:3000', 111)"
   ]
  },
  {
   "cell_type": "code",
   "execution_count": 7,
   "id": "7f80b928",
   "metadata": {},
   "outputs": [
    {
     "data": {
      "text/plain": [
       "<Task pending name='Task-1' coro=<IPcam.joinRoom() running at /Users/qipanyang/Desktop/512/ip-cam-package/ipcam.py:114>>"
      ]
     },
     "execution_count": 7,
     "metadata": {},
     "output_type": "execute_result"
    },
    {
     "name": "stdout",
     "output_type": "stream",
     "text": [
      "create a new async sio client\n",
      "connect to a server\n"
     ]
    }
   ],
   "source": [
    "loop.create_task(my_ipcam.joinRoom())"
   ]
  },
  {
   "cell_type": "code",
   "execution_count": null,
   "id": "2172b0f0",
   "metadata": {},
   "outputs": [],
   "source": [
    "async def main():\n",
    "    await my_ipcam.setupPC()\n",
    "    await my_ipcam.onConnection()"
   ]
  },
  {
   "cell_type": "code",
   "execution_count": null,
   "id": "a528bc36",
   "metadata": {},
   "outputs": [],
   "source": [
    "task0 = loop.create_task(main())"
   ]
  },
  {
   "cell_type": "code",
   "execution_count": null,
   "id": "b2de0688",
   "metadata": {},
   "outputs": [],
   "source": [
    "loop.create_task(my_ipcam.takePhoto('test099-10'))"
   ]
  },
  {
   "cell_type": "code",
   "execution_count": null,
   "id": "a59006d7",
   "metadata": {},
   "outputs": [],
   "source": [
    "loop.create_task(my_ipcam.playVideo())"
   ]
  },
  {
   "cell_type": "code",
   "execution_count": null,
   "id": "051ef826",
   "metadata": {},
   "outputs": [],
   "source": [
    "loop.create_task(my_ipcam.checkPeerState())"
   ]
  },
  {
   "cell_type": "code",
   "execution_count": null,
   "id": "9bf5fdb1",
   "metadata": {},
   "outputs": [],
   "source": [
    "loop.create_task(my_ipcam.cameraSetting({\"isFront\": True, \"flash\": False, \"exposureISO\": -1, \"exposureDuration\": 100, \"pictureSize\": \"Low\"}))"
   ]
  },
  {
   "cell_type": "code",
   "execution_count": null,
   "id": "59045dae",
   "metadata": {},
   "outputs": [],
   "source": [
    "loop.stop()"
   ]
  },
  {
   "cell_type": "code",
   "execution_count": null,
   "id": "8fd37265",
   "metadata": {},
   "outputs": [],
   "source": [
    "my_ipcam.pc"
   ]
  },
  {
   "cell_type": "code",
   "execution_count": 10,
   "id": "ea20640f",
   "metadata": {},
   "outputs": [
    {
     "data": {
      "text/plain": [
       "<Task pending name='Task-19' coro=<IPcam.displayImage() running at /Users/qipanyang/Desktop/512/ip-cam-package/ipcam.py:168>>"
      ]
     },
     "execution_count": 10,
     "metadata": {},
     "output_type": "execute_result"
    },
    {
     "name": "stdout",
     "output_type": "stream",
     "text": [
      "pass the image ./test.png\n",
      "2738424\n",
      "False\n"
     ]
    }
   ],
   "source": [
    "loop.create_task(my_ipcam.displayImage(\"./test.png\"))"
   ]
  },
  {
   "cell_type": "code",
   "execution_count": null,
   "id": "2149f996",
   "metadata": {},
   "outputs": [],
   "source": [
    "import base64\n",
    "import cv2"
   ]
  },
  {
   "cell_type": "code",
   "execution_count": null,
   "id": "4abbad70",
   "metadata": {},
   "outputs": [],
   "source": [
    "img = cv2.imread('./test.png')"
   ]
  },
  {
   "cell_type": "code",
   "execution_count": null,
   "id": "1f5bf95e",
   "metadata": {},
   "outputs": [],
   "source": [
    "encode_img = cv2.imencode('.png', img)[1]"
   ]
  },
  {
   "cell_type": "code",
   "execution_count": null,
   "id": "c3dc3595",
   "metadata": {},
   "outputs": [],
   "source": [
    "base64.b64encode(encode_img)"
   ]
  },
  {
   "cell_type": "code",
   "execution_count": null,
   "id": "eec47718",
   "metadata": {},
   "outputs": [],
   "source": []
  },
  {
   "cell_type": "code",
   "execution_count": null,
   "id": "63bd13b0",
   "metadata": {},
   "outputs": [],
   "source": []
  }
 ],
 "metadata": {
  "kernelspec": {
   "display_name": "Python 3",
   "language": "python",
   "name": "python3"
  },
  "language_info": {
   "codemirror_mode": {
    "name": "ipython",
    "version": 3
   },
   "file_extension": ".py",
   "mimetype": "text/x-python",
   "name": "python",
   "nbconvert_exporter": "python",
   "pygments_lexer": "ipython3",
   "version": "3.9.4"
  }
 },
 "nbformat": 4,
 "nbformat_minor": 5
}
