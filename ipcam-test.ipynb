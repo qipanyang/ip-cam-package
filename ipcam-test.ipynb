{
 "cells": [
  {
   "cell_type": "code",
   "execution_count": 3,
   "id": "e48e676c",
   "metadata": {},
   "outputs": [],
   "source": [
    "import asyncio\n",
    "import ipcam"
   ]
  },
  {
   "cell_type": "code",
   "execution_count": 4,
   "id": "6cbeff33",
   "metadata": {},
   "outputs": [],
   "source": [
    "loop = asyncio.get_event_loop()"
   ]
  },
  {
   "cell_type": "code",
   "execution_count": 5,
   "id": "a167d4b2",
   "metadata": {},
   "outputs": [],
   "source": [
    "my_ipcam = ipcam.IPcam('http://10.105.122.70:3000', 111)"
   ]
  },
  {
   "cell_type": "code",
   "execution_count": 6,
   "id": "7f80b928",
   "metadata": {},
   "outputs": [
    {
     "data": {
      "text/plain": [
       "<Task pending name='Task-1' coro=<IPcam.joinRoom() running at /Users/qipanyang/Desktop/512/ip-cam-package/ipcam.py:95>>"
      ]
     },
     "execution_count": 6,
     "metadata": {},
     "output_type": "execute_result"
    },
    {
     "name": "stdout",
     "output_type": "stream",
     "text": [
      "create a new async sio client\n",
      "connect to a server\n"
     ]
    }
   ],
   "source": [
    "loop.create_task(my_ipcam.joinRoom())"
   ]
  },
  {
   "cell_type": "code",
   "execution_count": 46,
   "id": "b2de0688",
   "metadata": {},
   "outputs": [
    {
     "data": {
      "text/plain": [
       "<Task pending name='Task-3774' coro=<IPcam.takePhoto() running at /Users/qipanyang/Desktop/512/ip-cam-package/ipcam.py:99>>"
      ]
     },
     "execution_count": 46,
     "metadata": {},
     "output_type": "execute_result"
    }
   ],
   "source": [
    "loop.create_task(my_ipcam.takePhoto('test10'))"
   ]
  },
  {
   "cell_type": "code",
   "execution_count": 34,
   "id": "19df2833",
   "metadata": {},
   "outputs": [
    {
     "data": {
      "text/plain": [
       "<Task pending name='Task-3384' coro=<IPcam.cameraSetting() running at /Users/qipanyang/Desktop/512/ip-cam-package/ipcam.py:168>>"
      ]
     },
     "execution_count": 34,
     "metadata": {},
     "output_type": "execute_result"
    },
    {
     "name": "stdout",
     "output_type": "stream",
     "text": [
      "change camera settings\n"
     ]
    }
   ],
   "source": [
    "loop.create_task(my_ipcam.cameraSetting({\"exposureDuration\": 100, \"exposureISO\": 0.5}))"
   ]
  },
  {
   "cell_type": "code",
   "execution_count": 47,
   "id": "a59006d7",
   "metadata": {},
   "outputs": [
    {
     "data": {
      "text/plain": [
       "<Task pending name='Task-3778' coro=<IPcam.playVideo() running at /Users/qipanyang/Desktop/512/ip-cam-package/ipcam.py:163>>"
      ]
     },
     "execution_count": 47,
     "metadata": {},
     "output_type": "execute_result"
    },
    {
     "name": "stdout",
     "output_type": "stream",
     "text": [
      "new peer connection\n",
      "on-connect: is the caller\n",
      "connection established\n",
      "offer-or-answer offer\n",
      "Track received\n",
      "successfully add new candidate\n",
      "successfully add new candidate\n",
      "successfully add new candidate\n",
      "successfully add new candidate\n",
      "successfully add new candidate\n",
      "successfully add new candidate\n",
      "successfully add new candidate\n",
      "successfully add new candidate\n",
      "successfully add new candidate\n",
      "successfully add new candidate\n",
      "successfully add new candidate\n",
      "successfully add new candidate\n",
      "successfully add new candidate\n",
      "successfully add new candidate\n",
      "successfully add new candidate\n",
      "successfully add new candidate\n",
      "successfully add new candidate\n",
      "successfully add new candidate\n",
      "Connection state is connecting\n",
      "Connection state is connected\n",
      "transfer to frame\n",
      "Video stream exists.\n"
     ]
    }
   ],
   "source": [
    "loop.create_task(my_ipcam.playVideo())"
   ]
  },
  {
   "cell_type": "code",
   "execution_count": null,
   "id": "ea20640f",
   "metadata": {},
   "outputs": [],
   "source": [
    "loop.create_task(my_ipcam.displayImage(\"./test.jpeg\"))"
   ]
  },
  {
   "cell_type": "code",
   "execution_count": null,
   "id": "051ef826",
   "metadata": {},
   "outputs": [],
   "source": [
    "loop.create_task(my_ipcam.checkPeerState())"
   ]
  },
  {
   "cell_type": "code",
   "execution_count": null,
   "id": "59045dae",
   "metadata": {},
   "outputs": [],
   "source": [
    "loop.stop()"
   ]
  }
 ],
 "metadata": {
  "kernelspec": {
   "display_name": "Python 3",
   "language": "python",
   "name": "python3"
  },
  "language_info": {
   "codemirror_mode": {
    "name": "ipython",
    "version": 3
   },
   "file_extension": ".py",
   "mimetype": "text/x-python",
   "name": "python",
   "nbconvert_exporter": "python",
   "pygments_lexer": "ipython3",
   "version": "3.9.4"
  }
 },
 "nbformat": 4,
 "nbformat_minor": 5
}
