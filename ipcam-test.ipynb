{
 "cells": [
  {
   "cell_type": "code",
   "execution_count": 1,
   "id": "e48e676c",
   "metadata": {},
   "outputs": [],
   "source": [
    "import ipcam"
   ]
  },
  {
   "cell_type": "code",
   "execution_count": 2,
   "id": "6cbeff33",
   "metadata": {},
   "outputs": [],
   "source": [
    "import asyncio\n",
    "loop = asyncio.get_event_loop()"
   ]
  },
  {
   "cell_type": "code",
   "execution_count": 3,
   "id": "a167d4b2",
   "metadata": {},
   "outputs": [],
   "source": [
    "my_ipcam = ipcam.IPcam('http://10.105.122.70:3000', 111)"
   ]
  },
  {
   "cell_type": "code",
   "execution_count": 14,
   "id": "7f80b928",
   "metadata": {},
   "outputs": [
    {
     "data": {
      "text/plain": [
       "<Task pending name='Task-11535' coro=<IPcam.joinRoom() running at /Users/qipanyang/Desktop/512/tmp/ipcam.py:101>>"
      ]
     },
     "execution_count": 14,
     "metadata": {},
     "output_type": "execute_result"
    },
    {
     "name": "stdout",
     "output_type": "stream",
     "text": [
      "create a new async sio client\n",
      "connect to a server\n"
     ]
    }
   ],
   "source": [
    "loop.create_task(my_ipcam.joinRoom())"
   ]
  },
  {
   "cell_type": "code",
   "execution_count": 15,
   "id": "2172b0f0",
   "metadata": {},
   "outputs": [],
   "source": [
    "async def main():\n",
    "    await my_ipcam.setupPC()\n",
    "    await my_ipcam.onConnection()"
   ]
  },
  {
   "cell_type": "code",
   "execution_count": 16,
   "id": "a528bc36",
   "metadata": {},
   "outputs": [
    {
     "name": "stdout",
     "output_type": "stream",
     "text": [
      "new peer connection\n",
      "on-connect: is the caller\n",
      "connection established\n",
      "offer-or-answer offer\n",
      "Track received\n",
      "successfully add new candidate\n",
      "successfully add new candidate\n",
      "successfully add new candidate\n",
      "successfully add new candidate\n",
      "successfully add new candidate\n",
      "successfully add new candidate\n",
      "successfully add new candidate\n",
      "successfully add new candidate\n",
      "successfully add new candidate\n",
      "successfully add new candidate\n",
      "successfully add new candidate\n",
      "successfully add new candidate\n",
      "successfully add new candidate\n",
      "successfully add new candidate\n",
      "successfully add new candidate\n",
      "successfully add new candidate\n",
      "successfully add new candidate\n",
      "ICE connection state is checking\n",
      "Connection state is connecting\n",
      "ICE connection state is completed\n",
      "Connection state is connected\n",
      "transfer to frame\n"
     ]
    }
   ],
   "source": [
    "task0 = loop.create_task(main())"
   ]
  },
  {
   "cell_type": "code",
   "execution_count": 7,
   "id": "b2de0688",
   "metadata": {},
   "outputs": [
    {
     "data": {
      "text/plain": [
       "<Task pending name='Task-1446' coro=<IPcam.sioclose() running at /Users/qipanyang/Desktop/512/tmp/ipcam.py:153>>"
      ]
     },
     "execution_count": 7,
     "metadata": {},
     "output_type": "execute_result"
    }
   ],
   "source": [
    "loop.create_task(my_ipcam.sioclose())"
   ]
  },
  {
   "cell_type": "code",
   "execution_count": 20,
   "id": "ee6c59b4",
   "metadata": {},
   "outputs": [
    {
     "data": {
      "text/plain": [
       "<aiortc.rtcrtpreceiver.RemoteStreamTrack at 0x132395370>"
      ]
     },
     "execution_count": 20,
     "metadata": {},
     "output_type": "execute_result"
    }
   ],
   "source": [
    "my_ipcam.local_video"
   ]
  },
  {
   "cell_type": "code",
   "execution_count": 21,
   "id": "a59006d7",
   "metadata": {},
   "outputs": [
    {
     "data": {
      "text/plain": [
       "<Task pending name='Task-14917' coro=<IPcam.playvideo() running at /Users/qipanyang/Desktop/512/tmp/ipcam.py:33>>"
      ]
     },
     "execution_count": 21,
     "metadata": {},
     "output_type": "execute_result"
    },
    {
     "name": "stdout",
     "output_type": "stream",
     "text": [
      "transfer to frame\n"
     ]
    }
   ],
   "source": [
    "loop.create_task(my_ipcam.playvideo())"
   ]
  },
  {
   "cell_type": "code",
   "execution_count": 22,
   "id": "59045dae",
   "metadata": {},
   "outputs": [],
   "source": [
    "loop.stop()"
   ]
  },
  {
   "cell_type": "code",
   "execution_count": null,
   "id": "8fd37265",
   "metadata": {},
   "outputs": [],
   "source": []
  }
 ],
 "metadata": {
  "kernelspec": {
   "display_name": "Python 3",
   "language": "python",
   "name": "python3"
  },
  "language_info": {
   "codemirror_mode": {
    "name": "ipython",
    "version": 3
   },
   "file_extension": ".py",
   "mimetype": "text/x-python",
   "name": "python",
   "nbconvert_exporter": "python",
   "pygments_lexer": "ipython3",
   "version": "3.9.4"
  }
 },
 "nbformat": 4,
 "nbformat_minor": 5
}
