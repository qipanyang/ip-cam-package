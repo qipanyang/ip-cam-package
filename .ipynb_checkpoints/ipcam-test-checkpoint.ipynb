{
 "cells": [
  {
   "cell_type": "code",
   "execution_count": 1,
   "id": "e48e676c",
   "metadata": {},
   "outputs": [],
   "source": [
    "import asyncio\n",
    "import ipcam"
   ]
  },
  {
   "cell_type": "code",
   "execution_count": 2,
   "id": "6cbeff33",
   "metadata": {},
   "outputs": [],
   "source": [
    "loop = asyncio.get_event_loop()"
   ]
  },
  {
   "cell_type": "code",
   "execution_count": 3,
   "id": "a167d4b2",
   "metadata": {},
   "outputs": [],
   "source": [
    "my_ipcam = ipcam.IPcam('http://10.105.122.70:3000', 111)"
   ]
  },
  {
   "cell_type": "code",
   "execution_count": 4,
   "id": "7f80b928",
   "metadata": {},
   "outputs": [
    {
     "data": {
      "text/plain": [
       "<Task pending name='Task-1' coro=<IPcam.joinRoom() running at /Users/qipanyang/Desktop/512/ip-cam-package/ipcam.py:113>>"
      ]
     },
     "execution_count": 4,
     "metadata": {},
     "output_type": "execute_result"
    },
    {
     "name": "stdout",
     "output_type": "stream",
     "text": [
      "create a new async sio client\n",
      "connect to a server\n"
     ]
    }
   ],
   "source": [
    "loop.create_task(my_ipcam.joinRoom())"
   ]
  },
  {
   "cell_type": "code",
   "execution_count": null,
   "id": "2172b0f0",
   "metadata": {},
   "outputs": [],
   "source": [
    "async def main():\n",
    "    await my_ipcam.setupPC()\n",
    "    await my_ipcam.onConnection()"
   ]
  },
  {
   "cell_type": "code",
   "execution_count": null,
   "id": "a528bc36",
   "metadata": {},
   "outputs": [],
   "source": [
    "task0 = loop.create_task(main())"
   ]
  },
  {
   "cell_type": "code",
   "execution_count": 13,
   "id": "b2de0688",
   "metadata": {},
   "outputs": [
    {
     "data": {
      "text/plain": [
       "<Task pending name='Task-46' coro=<IPcam.takePhoto() running at /Users/qipanyang/Desktop/512/ip-cam-package/ipcam.py:165>>"
      ]
     },
     "execution_count": 13,
     "metadata": {},
     "output_type": "execute_result"
    }
   ],
   "source": [
    "loop.create_task(my_ipcam.takePhoto('1'))"
   ]
  },
  {
   "cell_type": "code",
   "execution_count": null,
   "id": "a59006d7",
   "metadata": {},
   "outputs": [],
   "source": [
    "loop.create_task(my_ipcam.playVideo())"
   ]
  },
  {
   "cell_type": "code",
   "execution_count": null,
   "id": "184895fe",
   "metadata": {},
   "outputs": [],
   "source": [
    "loop.create_task(my_ipcam.checkPeerState())"
   ]
  },
  {
   "cell_type": "code",
   "execution_count": 12,
   "id": "cf0be325",
   "metadata": {},
   "outputs": [
    {
     "data": {
      "text/plain": [
       "<Task pending name='Task-44' coro=<IPcam.cameraSetting() running at /Users/qipanyang/Desktop/512/ip-cam-package/ipcam.py:174>>"
      ]
     },
     "execution_count": 12,
     "metadata": {},
     "output_type": "execute_result"
    },
    {
     "name": "stdout",
     "output_type": "stream",
     "text": [
      "change camera settings\n"
     ]
    }
   ],
   "source": [
    "loop.create_task(my_ipcam.cameraSetting({\"isFront\": False, \"flash\": False, \"expoTime\": 1}))"
   ]
  },
  {
   "cell_type": "code",
   "execution_count": null,
   "id": "59045dae",
   "metadata": {},
   "outputs": [],
   "source": [
    "loop.stop()"
   ]
  },
  {
   "cell_type": "code",
   "execution_count": null,
   "id": "8fd37265",
   "metadata": {},
   "outputs": [],
   "source": [
    "my_ipcam.pc"
   ]
  },
  {
   "cell_type": "code",
   "execution_count": null,
   "id": "688aba70",
   "metadata": {},
   "outputs": [],
   "source": []
  }
 ],
 "metadata": {
  "kernelspec": {
   "display_name": "Python 3",
   "language": "python",
   "name": "python3"
  },
  "language_info": {
   "codemirror_mode": {
    "name": "ipython",
    "version": 3
   },
   "file_extension": ".py",
   "mimetype": "text/x-python",
   "name": "python",
   "nbconvert_exporter": "python",
   "pygments_lexer": "ipython3",
   "version": "3.9.4"
  }
 },
 "nbformat": 4,
 "nbformat_minor": 5
}
